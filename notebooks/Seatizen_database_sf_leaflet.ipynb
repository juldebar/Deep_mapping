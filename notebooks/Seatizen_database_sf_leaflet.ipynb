{
 "cells": [
  {
   "cell_type": "markdown",
   "metadata": {},
   "source": [
    "# Connect Seatizen SQL database:\n",
    "\n",
    "Check guidelines with \"sf\" R package and Postgres / Postgis, eg:\n",
    "\n",
    "https://rtask.thinkr.fr/fr/interagir-avec-postgis-depuis-r-avec-dbi-et-sf/ \n",
    "\n",
    "## Install libraries and connect the database"
   ]
  },
  {
   "cell_type": "code",
   "execution_count": 4,
   "metadata": {},
   "outputs": [],
   "source": [
    "library(DBI)\n",
    "library(sf)\n",
    "\n",
    "# With DBI\n",
    "con_Reef_database <- dbConnect(\n",
    "  RPostgres::Postgres(),\n",
    "  host = \"reef-db.d4science.org\",\n",
    "  dbname = \"Reef_database\",\n",
    "  port = 5432,\n",
    "  user = \"Reefifi\",\n",
    "  password = \"Reefifitoto\"\n",
    ")"
   ]
  },
  {
   "cell_type": "markdown",
   "metadata": {},
   "source": [
    "## Execute a SQL query with sf \"st_read\" function"
   ]
  },
  {
   "cell_type": "code",
   "execution_count": null,
   "metadata": {},
   "outputs": [],
   "source": [
    "query <- \"select * from view_occurences_manual_annotation where species_name = 'Syringodium isoetifolium' limit 1500;\"\n",
    "\n",
    "Le_morne_sf <- st_read(con_Reef_database, query = query)\n",
    "\n",
    "Le_morne_sf$st_astext <- st_as_text(Le_morne_sf$geometry_postgis)\n",
    "\n",
    "colnames(Le_morne_sf)\n"
   ]
  },
  {
   "cell_type": "markdown",
   "metadata": {},
   "source": [
    "## Display data in a viewer (leaflet)"
   ]
  },
  {
   "cell_type": "code",
   "execution_count": null,
   "metadata": {},
   "outputs": [],
   "source": [
    "#ensure leaflet is loaded to map the data\n",
    "library(leaflet)\n",
    "library(dplyr)\n",
    "layer = \"view_occurences_manual_annotation\"\n",
    "#calculate coordinates of the center of the areas where photos are located\n",
    "centroid <- st_union(Le_morne_sf$geometry_postgis)   %>% st_convex_hull()   %>% st_centroid()\n",
    "centroid\n",
    "\n",
    "    \n",
    "\n",
    "# set the map with the data and extra layers to make it pretty\n",
    "leaflet(data = Le_morne_sf,options = leafletOptions(minZoom = 3, maxZoom = 18)\n",
    "        ) %>% addTiles(\n",
    "        ) %>% addCircleMarkers(lng =~as_data_frame(st_coordinates(Le_morne_sf$geometry_postgis))$X,\n",
    "                               lat = ~as_data_frame(st_coordinates(Le_morne_sf$geometry_postgis))$Y,\n",
    "                               label = ~as.character(id),\n",
    "                               labelOptions = labelOptions(noHide = F, textsize = \"15px\"),\n",
    "                               popup = paste0(\"<img src=\\\"data:image/jpeg;base64, \", gsub(\"base64:\",\"\",Le_morne_sf$ThumbnailImage),\"\\\"  style=\\\"display:block; width:100px;height:100px;\\\" >\")\n",
    "        ) %>% setView(lng = st_coordinates(centroid)[1], lat =st_coordinates(centroid)[2], zoom = 15\n",
    "        ) %>% addProviderTiles(providers$Esri.WorldImagery, group = \"ESRI World imagery\", options = providerTileOptions(opacity = 0.95)\n",
    "        ) %>% addWMSTiles(\n",
    "    \"https://geoserver-sdi-lab.d4science.org/geoserver/Reef_database/ows\",\n",
    "    layers = layer,\n",
    "    options = WMSTileOptions(format = \"image/png\", transparent = TRUE), group =\"Seatizen\",\n",
    "      attribution = \"Seatizen WMS\"\n",
    "  )  %>% addLayersControl(\n",
    "    baseGroups = \"My Seatizen Map\",\n",
    "    #overlayGroups = c(\"Seatizen WMS\",\"ESRI World imagery\"),\n",
    "    options = layersControlOptions(collapsed = FALSE)\n",
    "  ) \n"
   ]
  }
 ],
 "metadata": {
  "kernelspec": {
   "display_name": "R",
   "language": "R",
   "name": "ir"
  },
  "language_info": {
   "codemirror_mode": "r",
   "file_extension": ".r",
   "mimetype": "text/x-r-source",
   "name": "R",
   "pygments_lexer": "r",
   "version": "4.0.2"
  }
 },
 "nbformat": 4,
 "nbformat_minor": 4
}
