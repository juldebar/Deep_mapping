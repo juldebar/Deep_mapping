https://trac.ffmpeg.org/ticket/1926

/home/julien/Desktop/Data/Data_Deep_Mapping/GP014315.MP4

ffprobe GP014315.MP4 -v quiet -show_frames


https://stackoverflow.com/questions/22396761/extract-metadata-from-a-video-image
ffmpeg -i GP014315.MP4 


https://stackoverflow.com/questions/41580820/edit-mp4-metadata-with-exiftool/41581793
sudo apt install libimage-exiftool-perl

exiftool GP014315.MP4 

=> gives metadata for database
